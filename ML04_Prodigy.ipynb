{
  "nbformat": 4,
  "nbformat_minor": 0,
  "metadata": {
    "colab": {
      "provenance": []
    },
    "kernelspec": {
      "name": "python3",
      "display_name": "Python 3"
    },
    "language_info": {
      "name": "python"
    }
  },
  "cells": [
    {
      "cell_type": "code",
      "execution_count": null,
      "metadata": {
        "id": "jfx8w7mZ9DfM"
      },
      "outputs": [],
      "source": [
        "import cv2\n",
        "import mediapipe as mp\n",
        "import time\n",
        "\n",
        "cap = cv2.VideoCapture(0)\n",
        "\n",
        "mpHands = mp.solutions.hands\n",
        "hands = mpHands.Hands()\n",
        "mpDraw = mp.solutions.drawing_utils\n",
        "\n",
        "pTime = 0\n",
        "cTime = 0\n",
        "\n",
        "while True:\n",
        "    success, img = cap.read()\n",
        "    img = cv2.flip(img, 1)\n",
        "    imgRGB = cv2.cvtColor(img, cv2.COLOR_BGR2RGB)\n",
        "    results = hands.process(imgRGB)\n",
        "\n",
        "    if results.multi_hand_landmarks:\n",
        "        for handLms in results.multi_hand_landmarks:\n",
        "            for id, lm in enumerate(handLms.landmark):\n",
        "                h, w, c = img.shape\n",
        "                cx, cy = int(lm.x * w), int(lm.y * h)\n",
        "                print(id, cx, cy)\n",
        "                if id == 4 :\n",
        "                    cv2.circle(img, (cx, cy), 15, (255, 0, 255), cv2.FILLED)\n",
        "                if id == 8 :\n",
        "                    cv2.circle(img, (cx, cy), 15, (255, 0, 255), cv2.FILLED)\n",
        "                if id == 12 :\n",
        "                    cv2.circle(img, (cx, cy), 15, (255, 0, 255), cv2.FILLED)\n",
        "                if id == 16 :\n",
        "                    cv2.circle(img, (cx, cy), 15, (255, 0, 255), cv2.FILLED)\n",
        "                if id == 20 :\n",
        "                    cv2.circle(img, (cx, cy), 15, (255, 0, 255), cv2.FILLED)\n",
        "\n",
        "            mpDraw.draw_landmarks(img, handLms, mpHands.HAND_CONNECTIONS)\n",
        "\n",
        "    cTime = time.time()\n",
        "    fps = 1 / (cTime - pTime)\n",
        "    pTime = cTime\n",
        "\n",
        "    cv2.putText(img, str(int(fps)), (10, 70), cv2.FONT_HERSHEY_PLAIN, 3,\n",
        "                (255, 0, 255), 3)\n",
        "\n",
        "    cv2.imshow(\"Image\", img)\n",
        "    key = cv2.waitKey(1) & 0xFF\n",
        "    if key == ord('q'):\n",
        "        break\n",
        "\n",
        "cap.release()\n",
        "cv2.destroyAllWindows()"
      ]
    }
  ]
}